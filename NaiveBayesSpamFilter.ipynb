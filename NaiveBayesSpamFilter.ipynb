{
 "cells": [
  {
   "cell_type": "code",
   "execution_count": 52,
   "metadata": {},
   "outputs": [],
   "source": [
    "import regex as re"
   ]
  },
  {
   "cell_type": "code",
   "execution_count": 53,
   "metadata": {},
   "outputs": [],
   "source": [
    "import nltk\n",
    "# nltk.download()\n",
    "\n",
    "import nltk.classify.util\n",
    "from nltk.tokenize import word_tokenize"
   ]
  },
  {
   "cell_type": "code",
   "execution_count": 54,
   "metadata": {},
   "outputs": [],
   "source": [
    "def create_word_features(words):\n",
    "#     dictionary = dict([(word, True) for word in words])\n",
    "    dictionary = {word:True for word in words}\n",
    "    return dictionary"
   ]
  },
  {
   "cell_type": "code",
   "execution_count": 59,
   "metadata": {},
   "outputs": [
    {
     "data": {
      "text/plain": [
       "{'a': True, 'b': True, 'c': True}"
      ]
     },
     "execution_count": 59,
     "metadata": {},
     "output_type": "execute_result"
    }
   ],
   "source": [
    "create_word_features('abc')"
   ]
  },
  {
   "cell_type": "code",
   "execution_count": 63,
   "metadata": {},
   "outputs": [
    {
     "name": "stdout",
     "output_type": "stream",
     "text": [
      "4361\n"
     ]
    }
   ],
   "source": [
    "import os\n",
    "Path = \"enron2/ham/\"\n",
    "ham_list = []\n",
    "filelist = os.listdir(Path)\n",
    "for i in filelist:\n",
    "    if i.endswith(\".txt\"):  \n",
    "        with open(Path + i, 'r', encoding=\"latin-1\") as f:\n",
    "            text = f.read()\n",
    "            text = text.lower()\n",
    "            text = re.sub(r'[^\\w\\s]','',text)\n",
    "            ham_list.append((create_word_features(word_tokenize(text)), 'ham'))\n",
    "print(len(ham_list))\n"
   ]
  },
  {
   "cell_type": "code",
   "execution_count": 64,
   "metadata": {},
   "outputs": [
    {
     "name": "stdout",
     "output_type": "stream",
     "text": [
      "1496\n"
     ]
    }
   ],
   "source": [
    "Path = \"enron2/spam/\"\n",
    "spam_list = []\n",
    "filelist = os.listdir(Path)\n",
    "for i in filelist:\n",
    "    if i.endswith(\".txt\"):  # You could also add \"and i.startswith('f')\n",
    "         with open(Path + i, 'r', encoding=\"utf8\", errors='ignore') as f:\n",
    "            text = f.read()\n",
    "            text = text.lower()\n",
    "            text = re.sub(r'[^\\w\\s]','',text)\n",
    "            spam_list.append((create_word_features(word_tokenize(text)), 'spam'))\n",
    "print(len(spam_list))"
   ]
  },
  {
   "cell_type": "code",
   "execution_count": 65,
   "metadata": {},
   "outputs": [],
   "source": [
    "import random"
   ]
  },
  {
   "cell_type": "code",
   "execution_count": 80,
   "metadata": {},
   "outputs": [
    {
     "name": "stdout",
     "output_type": "stream",
     "text": [
      "5857\n"
     ]
    }
   ],
   "source": [
    "combined_list = ham_list + spam_list\n",
    " \n",
    "random.shuffle(combined_list)\n",
    "\n",
    "print(len(combined_list))\n"
   ]
  },
  {
   "cell_type": "code",
   "execution_count": 79,
   "metadata": {},
   "outputs": [
    {
     "name": "stdout",
     "output_type": "stream",
     "text": [
      "4099\n",
      "1758\n"
     ]
    }
   ],
   "source": [
    "# 70% of data is training\n",
    "training_data = combined_list[:int(len(combined_list)*.7)]\n",
    "print(len(training_data))\n",
    "\n",
    "# 30% of data is test \n",
    "test_data = combined_list[int(len(combined_list)*.7):int(len(combined_list))]\n",
    "print(len(test_data))"
   ]
  },
  {
   "cell_type": "code",
   "execution_count": 102,
   "metadata": {},
   "outputs": [],
   "source": [
    "classifier = nltk.NaiveBayesClassifier.train(training_data)"
   ]
  },
  {
   "cell_type": "code",
   "execution_count": 103,
   "metadata": {},
   "outputs": [
    {
     "name": "stdout",
     "output_type": "stream",
     "text": [
      "Accuracy is:  99.08987485779295\n"
     ]
    }
   ],
   "source": [
    "accuracy = nltk.classify.util.accuracy(classifier, test_data)\n",
    "\n",
    "print(\"Accuracy is: \", accuracy * 100)"
   ]
  },
  {
   "cell_type": "code",
   "execution_count": 104,
   "metadata": {},
   "outputs": [],
   "source": [
    "# Clasify the below as spam or ham\n",
    " \n",
    "msg1 = '''Hello th̓ere seُx master :-)\n",
    "i need c0ck ri͏ght noِw ..͏. don't tell my hǔbbٚy.ٚ. ))\n",
    "My sc͕rٞeٚe̻nname is Dorry.\n",
    "My accֺo֔unt is h֯ere: http:nxusxbnd.GirlsBadoo.ru\n",
    "C u late٘r!'''\n",
    " \n",
    " \n",
    "msg2 = '''As one of our top customers we are providing 10% OFF the total of your next used book purchase from www.letthestoriesliveon.com. Please use the promotional code, TOPTENOFF at checkout. Limited to 1 use per customer. All books have free shipping within the contiguous 48 United States and there is no minimum purchase.\n",
    " \n",
    "We have millions of used books in stock that are up to 90% off MRSP and add tens of thousands of new items every day. Don’t forget to check back frequently for new arrivals.'''\n",
    " \n",
    " \n",
    " \n",
    "msg3 = '''To start off, I have a 6 new videos + transcripts in the members section. In it, we analyse the Enron email dataset, half a million files, spread over 2.5GB. It's about 1.5 hours of  video.\n",
    " \n",
    "I have also created a Conda environment for running the code (both free and member lessons). This is to ensure everyone is running the same version of libraries, preventing the Works on my machine problems. If you get a second, do you mind trying it here?'''"
   ]
  },
  {
   "cell_type": "code",
   "execution_count": 105,
   "metadata": {},
   "outputs": [],
   "source": [
    "# Break into words using word_tokenzise\n",
    "def word_tokenizer(words):\n",
    "    test_text = words\n",
    "    test_text = test_text.lower()\n",
    "    test_text = re.sub(r'[^\\w\\s]','',test_text)\n",
    "    return test_text\n",
    "\n",
    "spam_one = word_tokenizer(msg1)\n",
    "spam_two = word_tokenizer(msg2)\n",
    "ham = word_tokenizer(msg3)\n"
   ]
  },
  {
   "cell_type": "code",
   "execution_count": 106,
   "metadata": {},
   "outputs": [],
   "source": [
    "# Create_word_features\n",
    "spam_one_list = {}\n",
    "spam_two_list = {}\n",
    "ham_list = {}\n",
    "\n",
    "spam_one_list = create_word_features(word_tokenize(spam_one))\n",
    "spam_two_list = create_word_features(word_tokenize(spam_two))\n",
    "ham_list = create_word_features(word_tokenize(ham))"
   ]
  },
  {
   "cell_type": "code",
   "execution_count": 107,
   "metadata": {},
   "outputs": [
    {
     "name": "stdout",
     "output_type": "stream",
     "text": [
      "Msg1 spam is labeled as ham\n",
      "Msg2 spam is labeled as spam\n",
      "Msg3 ham is labeled as ham\n"
     ]
    }
   ],
   "source": [
    "# Classify function\n",
    "# print(\"Msg1 spam is labeled as\", nltk.classify(classifier, spam_one_list))\n",
    "print(\"Msg1 spam is labeled as\", classifier.classify(spam_one_list))\n",
    "print(\"Msg2 spam is labeled as\", classifier.classify(spam_two_list))\n",
    "print(\"Msg3 ham is labeled as\", classifier.classify(ham_list))"
   ]
  },
  {
   "cell_type": "code",
   "execution_count": null,
   "metadata": {},
   "outputs": [],
   "source": []
  }
 ],
 "metadata": {
  "kernelspec": {
   "display_name": "Python 3",
   "language": "python",
   "name": "python3"
  },
  "language_info": {
   "codemirror_mode": {
    "name": "ipython",
    "version": 3
   },
   "file_extension": ".py",
   "mimetype": "text/x-python",
   "name": "python",
   "nbconvert_exporter": "python",
   "pygments_lexer": "ipython3",
   "version": "3.7.2"
  }
 },
 "nbformat": 4,
 "nbformat_minor": 2
}
